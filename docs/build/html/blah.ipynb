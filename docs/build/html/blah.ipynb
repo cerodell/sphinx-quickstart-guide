{
 "cells": [
  {
   "cell_type": "markdown",
   "id": "bf575248",
   "metadata": {
    "lines_to_next_cell": 0
   },
   "source": [
    "# Test "
   ]
  },
  {
   "cell_type": "code",
   "execution_count": 1,
   "id": "84c460bc",
   "metadata": {},
   "outputs": [
    {
     "name": "stdout",
     "output_type": "stream",
     "text": [
      "[0 1 2 3 4]\n"
     ]
    }
   ],
   "source": [
    "import numpy as np\n",
    "\n",
    "test = np.arange(0,5)\n",
    "print(test)"
   ]
  }
 ],
 "metadata": {
  "jupytext": {
   "cell_metadata_filter": "-all",
   "main_language": "python",
   "notebook_metadata_filter": "-all"
  },
  "kernelspec": {
   "display_name": "Python 3.8.8 ('fwf')",
   "language": "python",
   "name": "python3"
  },
  "language_info": {
   "codemirror_mode": {
    "name": "ipython",
    "version": 3
   },
   "file_extension": ".py",
   "mimetype": "text/x-python",
   "name": "python",
   "nbconvert_exporter": "python",
   "pygments_lexer": "ipython3",
   "version": "3.8.8"
  },
  "vscode": {
   "interpreter": {
    "hash": "23a78a6bf236df98613aab83d2de99cdc4f445b7da270a1b9841e640848dfff8"
   }
  }
 },
 "nbformat": 4,
 "nbformat_minor": 5
}
