{
 "cells": [
  {
   "cell_type": "markdown",
   "id": "bf575248",
   "metadata": {
    "lines_to_next_cell": 0
   },
   "source": [
    "# Test "
   ]
  },
  {
   "cell_type": "code",
   "execution_count": null,
   "id": "84c460bc",
   "metadata": {},
   "outputs": [],
   "source": [
    "import numpy as np\n",
    "\n",
    "test = np.arange(0,5)\n",
    "print(test)"
   ]
  }
 ],
 "metadata": {
  "jupytext": {
   "cell_metadata_filter": "-all",
   "main_language": "python",
   "notebook_metadata_filter": "-all"
  },
  "kernelspec": {
   "display_name": "Python 3.8.8 ('fwf')",
   "language": "python",
   "name": "python3"
  },
  "language_info": {
   "name": "python",
   "version": "3.8.8"
  },
  "vscode": {
   "interpreter": {
    "hash": "23a78a6bf236df98613aab83d2de99cdc4f445b7da270a1b9841e640848dfff8"
   }
  }
 },
 "nbformat": 4,
 "nbformat_minor": 5
}
